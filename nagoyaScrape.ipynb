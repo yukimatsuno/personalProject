{
  "cells": [
    {
      "attachments": {},
      "cell_type": "markdown",
      "metadata": {},
      "source": [
        "- nagoyaScrape(startPage, lastPage) will scrape the site and save CSV on Google Drive\n",
        "- nagoya_authenticate(project_id) will setup project and SQL on GCP\n",
        "- connect() will create database and insert data\n",
        "- cleanrp() will delete database and move the file to bk folder\n",
        "- slee(hour) is sleep command\n"
      ]
    },
    {
      "cell_type": "code",
      "execution_count": 1,
      "metadata": {
        "colab": {
          "base_uri": "https://localhost:8080/"
        },
        "id": "FV21MW-dNTu4",
        "outputId": "61a5accd-74de-4c4c-c415-1fdbf0be7ba3"
      },
      "outputs": [
        {
          "name": "stdout",
          "output_type": "stream",
          "text": [
            "Mounted at /content/drive\n"
          ]
        }
      ],
      "source": [
        "# Mount Google Drive\n",
        "from google.colab import drive\n",
        "drive.mount('/content/drive')\n",
        "\n",
        "def nagoyaScrape(startPage, lastPage):\n",
        "    from bs4 import BeautifulSoup\n",
        "    import requests, random, time, csv, os.path, datetime, sys, sqlalchemy\n",
        "    # define output file name\n",
        "    date = datetime.datetime.now().strftime(\"%Y%m%d_%H%M\")\n",
        "    global filename\n",
        "    filename = f'/content/drive/My Drive/Nagoya_{date}.csv'\n",
        "    for j in range(startPage, lastPage +1):\n",
        "        print('Started page ' + str(j))\n",
        "        url = 'https://sub.nagoya-shouhinken.com/prd/c_app/shoplists?page=' + str(j)\n",
        "        page = requests.get(url)\n",
        "        soup = BeautifulSoup(page.content, 'html.parser') #page変数はResponse．BeautifulSoup()にHTMLの内容が文字列として取り出して渡す\n",
        "\n",
        "        names = soup.find_all(\"h2\", class_=\"p-area-shoplist__headline\")\n",
        "        areas = soup.find_all(\"dd\", class_=\"-area\")\n",
        "        categories = soup.find_all(\"dd\", class_=\"-category\")\n",
        "        addresses = soup.find_all(\"dl\", \"p-area-shoplist__address\")\n",
        "\n",
        "\n",
        "        l = []\n",
        "        d = {}\n",
        "        for i in range(len(names)):\n",
        "            name = names[i].text.split('\\n')[1].strip()\n",
        "            area = areas[i].text\n",
        "            category = categories[i].text\n",
        "            address = addresses[i].text.split(\"\\n\")[3]\n",
        "            tel = addresses[i].text.split(\"\\n\")[-3]\n",
        "            d = {\"name\": name, \"area\": area, \"category\": category, \"address\": address, \"tel\": tel}\n",
        "            l.append(d)\n",
        "    \n",
        "        keys = l[0].keys()\n",
        "        with open(filename, 'a', newline='') as nagoya:\n",
        "            dict_writer = csv.DictWriter(nagoya, keys)\n",
        "            dict_writer.writerows(l)\n",
        "        print('Completed page '+ str(j))     \n",
        "        time.sleep(random.randint(3,5)) #次のスクレイぷに進むまで5〜8秒ランダムに待つ\n",
        "    print(\"Completed all scrape\")\n",
        "    return"
      ]
    },
    {
      "cell_type": "code",
      "execution_count": 2,
      "metadata": {
        "colab": {
          "base_uri": "https://localhost:8080/"
        },
        "id": "a3wo-McpOFz3",
        "outputId": "7630f1d5-98a2-4aa2-9a23-b5f9d44ad387"
      },
      "outputs": [
        {
          "name": "stdout",
          "output_type": "stream",
          "text": [
            "Started page 1\n",
            "Completed page 1\n",
            "Started page 2\n",
            "Completed page 2\n",
            "Completed all scrape\n"
          ]
        }
      ],
      "source": [
        "startPage=1\n",
        "lastPage=2\n",
        "nagoyaScrape(startPage, lastPage)"
      ]
    },
    {
      "cell_type": "code",
      "execution_count": 3,
      "metadata": {
        "colab": {
          "base_uri": "https://localhost:8080/"
        },
        "id": "3xJaQHAo3rde",
        "outputId": "52f19d3a-245e-4705-f8cd-e9c60ced9528"
      },
      "outputs": [
        {
          "name": "stdout",
          "output_type": "stream",
          "text": [
            "Updated property [core/project].\n"
          ]
        }
      ],
      "source": [
        "def nagoya_authenticate(project_id): #Your GCP project ID \n",
        "    # Authenticate user\n",
        "    from google.colab import auth\n",
        "    auth.authenticate_user()\n",
        "\n",
        "    # Configure gcloud.\n",
        "    !gcloud config set project {project_id}\n",
        "    return\n",
        "nagoya_authenticate(\"cospa101\")"
      ]
    },
    {
      "cell_type": "code",
      "execution_count": 4,
      "metadata": {
        "colab": {
          "base_uri": "https://localhost:8080/"
        },
        "id": "-7CfXE6wjAEL",
        "outputId": "01e6a931-8fc2-4ff5-c551-8f5e809c1f79"
      },
      "outputs": [
        {
          "name": "stdout",
          "output_type": "stream",
          "text": [
            "Updated IAM policy for project [cospa101].\n",
            "bindings:\n",
            "- members:\n",
            "  - serviceAccount:service-506786559931@gcp-sa-aiplatform-cc.iam.gserviceaccount.com\n",
            "  role: roles/aiplatform.customCodeServiceAgent\n",
            "- members:\n",
            "  - serviceAccount:service-506786559931@gcp-sa-aiplatform.iam.gserviceaccount.com\n",
            "  role: roles/aiplatform.serviceAgent\n",
            "- members:\n",
            "  - serviceAccount:506786559931@cloudbuild.gserviceaccount.com\n",
            "  role: roles/cloudbuild.builds.builder\n",
            "- members:\n",
            "  - serviceAccount:service-506786559931@gcp-sa-cloudbuild.iam.gserviceaccount.com\n",
            "  role: roles/cloudbuild.serviceAgent\n",
            "- members:\n",
            "  - serviceAccount:service-506786559931@gcf-admin-robot.iam.gserviceaccount.com\n",
            "  role: roles/cloudfunctions.serviceAgent\n",
            "- members:\n",
            "  - serviceAccount:service-506786559931@gcp-sa-cloudscheduler.iam.gserviceaccount.com\n",
            "  role: roles/cloudscheduler.serviceAgent\n",
            "- members:\n",
            "  - user:yuki.ama8@gmail.com\n",
            "  role: roles/cloudsql.client\n",
            "- members:\n",
            "  - user:yuki.ama8@gmail.com\n",
            "  role: roles/cloudsql.instanceUser\n",
            "- members:\n",
            "  - serviceAccount:service-506786559931@compute-system.iam.gserviceaccount.com\n",
            "  role: roles/compute.serviceAgent\n",
            "- members:\n",
            "  - serviceAccount:service-506786559931@containerregistry.iam.gserviceaccount.com\n",
            "  role: roles/containerregistry.ServiceAgent\n",
            "- members:\n",
            "  - serviceAccount:506786559931-compute@developer.gserviceaccount.com\n",
            "  - serviceAccount:506786559931@cloudservices.gserviceaccount.com\n",
            "  - serviceAccount:cospa101@appspot.gserviceaccount.com\n",
            "  role: roles/editor\n",
            "- members:\n",
            "  - serviceAccount:firebase-service-account@firebase-sa-management.iam.gserviceaccount.com\n",
            "  - serviceAccount:service-506786559931@gcp-sa-firebase.iam.gserviceaccount.com\n",
            "  role: roles/firebase.managementServiceAgent\n",
            "- members:\n",
            "  - serviceAccount:firebase-adminsdk-69tlv@cospa101.iam.gserviceaccount.com\n",
            "  role: roles/firebase.sdkAdminServiceAgent\n",
            "- members:\n",
            "  - serviceAccount:service-506786559931@firebase-rules.iam.gserviceaccount.com\n",
            "  role: roles/firebaserules.system\n",
            "- members:\n",
            "  - serviceAccount:service-506786559931@gcp-sa-firestore.iam.gserviceaccount.com\n",
            "  role: roles/firestore.serviceAgent\n",
            "- members:\n",
            "  - serviceAccount:firebase-adminsdk-69tlv@cospa101.iam.gserviceaccount.com\n",
            "  role: roles/iam.serviceAccountTokenCreator\n",
            "- members:\n",
            "  - serviceAccount:service-506786559931@gcp-sa-notebooks.iam.gserviceaccount.com\n",
            "  role: roles/notebooks.serviceAgent\n",
            "- members:\n",
            "  - user:yuki.ama8@gmail.com\n",
            "  role: roles/owner\n",
            "- members:\n",
            "  - serviceAccount:service-506786559931@gcp-sa-pubsub.iam.gserviceaccount.com\n",
            "  role: roles/pubsub.serviceAgent\n",
            "etag: BwX7LwGnGHE=\n",
            "version: 1\n",
            "Found existing MySQL Cloud SQL Instance!\n",
            "Created database [nagoya].\n",
            "instance: cospa101\n",
            "name: nagoya\n",
            "project: cospa101\n",
            "Created user [user].\n",
            "Looking in indexes: https://pypi.org/simple, https://us-python.pkg.dev/colab-wheels/public/simple/\n",
            "Collecting cloud-sql-python-connector[pymysql]\n",
            "  Downloading cloud_sql_python_connector-1.2.2-py2.py3-none-any.whl (35 kB)\n",
            "Collecting SQLAlchemy==2.0.7\n",
            "  Downloading SQLAlchemy-2.0.7-cp310-cp310-manylinux_2_17_x86_64.manylinux2014_x86_64.whl (2.7 MB)\n",
            "\u001b[2K     \u001b[90m━━━━━━━━━━━━━━━━━━━━━━━━━━━━━━━━━━━━━━━━\u001b[0m \u001b[32m2.7/2.7 MB\u001b[0m \u001b[31m31.2 MB/s\u001b[0m eta \u001b[36m0:00:00\u001b[0m\n",
            "\u001b[?25hRequirement already satisfied: greenlet!=0.4.17 in /usr/local/lib/python3.10/dist-packages (from SQLAlchemy==2.0.7) (2.0.2)\n",
            "Requirement already satisfied: typing-extensions>=4.2.0 in /usr/local/lib/python3.10/dist-packages (from SQLAlchemy==2.0.7) (4.5.0)\n",
            "Requirement already satisfied: cryptography>=38.0.3 in /usr/local/lib/python3.10/dist-packages (from cloud-sql-python-connector[pymysql]) (40.0.2)\n",
            "Collecting aiohttp\n",
            "  Downloading aiohttp-3.8.4-cp310-cp310-manylinux_2_17_x86_64.manylinux2014_x86_64.whl (1.0 MB)\n",
            "\u001b[2K     \u001b[90m━━━━━━━━━━━━━━━━━━━━━━━━━━━━━━━━━━━━━━━━\u001b[0m \u001b[32m1.0/1.0 MB\u001b[0m \u001b[31m46.2 MB/s\u001b[0m eta \u001b[36m0:00:00\u001b[0m\n",
            "\u001b[?25hRequirement already satisfied: Requests in /usr/local/lib/python3.10/dist-packages (from cloud-sql-python-connector[pymysql]) (2.27.1)\n",
            "Requirement already satisfied: google-auth in /usr/local/lib/python3.10/dist-packages (from cloud-sql-python-connector[pymysql]) (2.17.3)\n",
            "Collecting PyMySQL==1.0.3\n",
            "  Downloading PyMySQL-1.0.3-py3-none-any.whl (43 kB)\n",
            "\u001b[2K     \u001b[90m━━━━━━━━━━━━━━━━━━━━━━━━━━━━━━━━━━━━━━━━\u001b[0m \u001b[32m43.7/43.7 kB\u001b[0m \u001b[31m4.7 MB/s\u001b[0m eta \u001b[36m0:00:00\u001b[0m\n",
            "\u001b[?25hRequirement already satisfied: cffi>=1.12 in /usr/local/lib/python3.10/dist-packages (from cryptography>=38.0.3->cloud-sql-python-connector[pymysql]) (1.15.1)\n",
            "Collecting async-timeout<5.0,>=4.0.0a3\n",
            "  Downloading async_timeout-4.0.2-py3-none-any.whl (5.8 kB)\n",
            "Collecting frozenlist>=1.1.1\n",
            "  Downloading frozenlist-1.3.3-cp310-cp310-manylinux_2_5_x86_64.manylinux1_x86_64.manylinux_2_17_x86_64.manylinux2014_x86_64.whl (149 kB)\n",
            "\u001b[2K     \u001b[90m━━━━━━━━━━━━━━━━━━━━━━━━━━━━━━━━━━━━━━\u001b[0m \u001b[32m149.6/149.6 kB\u001b[0m \u001b[31m16.1 MB/s\u001b[0m eta \u001b[36m0:00:00\u001b[0m\n",
            "\u001b[?25hCollecting multidict<7.0,>=4.5\n",
            "  Downloading multidict-6.0.4-cp310-cp310-manylinux_2_17_x86_64.manylinux2014_x86_64.whl (114 kB)\n",
            "\u001b[2K     \u001b[90m━━━━━━━━━━━━━━━━━━━━━━━━━━━━━━━━━━━━━━\u001b[0m \u001b[32m114.5/114.5 kB\u001b[0m \u001b[31m11.7 MB/s\u001b[0m eta \u001b[36m0:00:00\u001b[0m\n",
            "\u001b[?25hRequirement already satisfied: attrs>=17.3.0 in /usr/local/lib/python3.10/dist-packages (from aiohttp->cloud-sql-python-connector[pymysql]) (23.1.0)\n",
            "Collecting yarl<2.0,>=1.0\n",
            "  Downloading yarl-1.9.2-cp310-cp310-manylinux_2_17_x86_64.manylinux2014_x86_64.whl (268 kB)\n",
            "\u001b[2K     \u001b[90m━━━━━━━━━━━━━━━━━━━━━━━━━━━━━━━━━━━━━━\u001b[0m \u001b[32m268.8/268.8 kB\u001b[0m \u001b[31m24.1 MB/s\u001b[0m eta \u001b[36m0:00:00\u001b[0m\n",
            "\u001b[?25hRequirement already satisfied: charset-normalizer<4.0,>=2.0 in /usr/local/lib/python3.10/dist-packages (from aiohttp->cloud-sql-python-connector[pymysql]) (2.0.12)\n",
            "Collecting aiosignal>=1.1.2\n",
            "  Downloading aiosignal-1.3.1-py3-none-any.whl (7.6 kB)\n",
            "Requirement already satisfied: rsa<5,>=3.1.4 in /usr/local/lib/python3.10/dist-packages (from google-auth->cloud-sql-python-connector[pymysql]) (4.9)\n",
            "Requirement already satisfied: six>=1.9.0 in /usr/local/lib/python3.10/dist-packages (from google-auth->cloud-sql-python-connector[pymysql]) (1.16.0)\n",
            "Requirement already satisfied: pyasn1-modules>=0.2.1 in /usr/local/lib/python3.10/dist-packages (from google-auth->cloud-sql-python-connector[pymysql]) (0.3.0)\n",
            "Requirement already satisfied: cachetools<6.0,>=2.0.0 in /usr/local/lib/python3.10/dist-packages (from google-auth->cloud-sql-python-connector[pymysql]) (5.3.0)\n",
            "Requirement already satisfied: idna<4,>=2.5 in /usr/local/lib/python3.10/dist-packages (from Requests->cloud-sql-python-connector[pymysql]) (3.4)\n",
            "Requirement already satisfied: certifi>=2017.4.17 in /usr/local/lib/python3.10/dist-packages (from Requests->cloud-sql-python-connector[pymysql]) (2022.12.7)\n",
            "Requirement already satisfied: urllib3<1.27,>=1.21.1 in /usr/local/lib/python3.10/dist-packages (from Requests->cloud-sql-python-connector[pymysql]) (1.26.15)\n",
            "Requirement already satisfied: pycparser in /usr/local/lib/python3.10/dist-packages (from cffi>=1.12->cryptography>=38.0.3->cloud-sql-python-connector[pymysql]) (2.21)\n",
            "Requirement already satisfied: pyasn1<0.6.0,>=0.4.6 in /usr/local/lib/python3.10/dist-packages (from pyasn1-modules>=0.2.1->google-auth->cloud-sql-python-connector[pymysql]) (0.5.0)\n",
            "Installing collected packages: SQLAlchemy, PyMySQL, multidict, frozenlist, async-timeout, yarl, aiosignal, aiohttp, cloud-sql-python-connector\n",
            "  Attempting uninstall: SQLAlchemy\n",
            "    Found existing installation: SQLAlchemy 2.0.10\n",
            "    Uninstalling SQLAlchemy-2.0.10:\n",
            "      Successfully uninstalled SQLAlchemy-2.0.10\n",
            "Successfully installed PyMySQL-1.0.3 SQLAlchemy-2.0.7 aiohttp-3.8.4 aiosignal-1.3.1 async-timeout-4.0.2 cloud-sql-python-connector-1.2.2 frozenlist-1.3.3 multidict-6.0.4 yarl-1.9.2\n",
            "Your instance connection name is: cospa101:us-central1:cospa101\n",
            "[(20,)]\n"
          ]
        }
      ],
      "source": [
        "def connect():\n",
        "    # grant Cloud SQL Client role to authenticated user\n",
        "    current_user = !gcloud auth list --filter=status:ACTIVE --format=\"value(account)\"\n",
        "\n",
        "    project_id = \"cospa101\"\n",
        "    !gcloud projects add-iam-policy-binding {project_id} \\\n",
        "        --member=user:{current_user[0]} \\\n",
        "        --role=\"roles/cloudsql.client\"\n",
        "\n",
        "    # enable Cloud SQL Admin API\n",
        "    !gcloud services enable sqladmin.googleapis.com  \n",
        "\n",
        "    # PGoogle Cloud region and name for your Cloud SQL instance\n",
        "    region = \"us-central1\" \n",
        "    instance_name = \"cospa101\" \n",
        "\n",
        "    # check if Cloud SQL instance exists in the provided region\n",
        "    database_version = !gcloud sql instances describe {instance_name} --format=\"value(databaseVersion)\"\n",
        "    if database_version[0].startswith(\"MYSQL\"):\n",
        "        print(\"Found existing MySQL Cloud SQL Instance!\")\n",
        "    else:\n",
        "        print(\"Creating new Cloud SQL instance...\")\n",
        "        password = input(\"Please provide a password to be used for database 'root' user: \")\n",
        "        !gcloud sql instances create {instance_name} --database-version=MYSQL_8_0 \\\n",
        "            --region={region} --cpu=1 --memory=4GB --root-password={password} \\\n",
        "            --database-flags=cloudsql_iam_authentication=On\n",
        "\n",
        "    # Create database\n",
        "    !gcloud sql databases create nagoya --instance={instance_name}\n",
        "\n",
        "    # Create a database user\n",
        "    !gcloud sql users create user \\\n",
        "        --instance={instance_name} \\\n",
        "        --password=\"user\"\n",
        "\n",
        "\n",
        "    # install dependencies\n",
        "    import sys\n",
        "    !{sys.executable} -m pip install cloud-sql-python-connector[\"pymysql\"] SQLAlchemy==2.0.7\n",
        "\n",
        "    # initialize parameters\n",
        "    INSTANCE_CONNECTION_NAME = f\"{project_id}:{region}:{instance_name}\" # i.e demo-project:us-central1:demo-instance\n",
        "    print(f\"Your instance connection name is: {INSTANCE_CONNECTION_NAME}\")\n",
        "    DB_USER = \"user\"\n",
        "    DB_PASS = \"user\"\n",
        "    DB_NAME = \"nagoya\"\n",
        "\n",
        "    from google.cloud.sql.connector import Connector\n",
        "    import sqlalchemy\n",
        "\n",
        "    # initialize Connector object\n",
        "    connector = Connector()\n",
        "\n",
        "\n",
        "    # function to return the database connection object\n",
        "    def getconn():\n",
        "        conn = connector.connect(\n",
        "            INSTANCE_CONNECTION_NAME,\n",
        "            \"pymysql\",\n",
        "            user=DB_USER,\n",
        "            password=DB_PASS,\n",
        "            db=DB_NAME\n",
        "        )\n",
        "        return conn\n",
        "\n",
        "    # create connection pool with 'creator' argument to our connection object function\n",
        "    pool = sqlalchemy.create_engine(\n",
        "        \"mysql+pymysql://\",\n",
        "        creator=getconn,\n",
        "    )\n",
        "\n",
        "\n",
        "\n",
        "    # connect to connection pool\n",
        "    with pool.connect() as db_conn:\n",
        "        # create nagoya table in our cospa101 database\n",
        "        db_conn.execute(\n",
        "            sqlalchemy.text(\n",
        "                \"CREATE TABLE IF NOT EXISTS nagoya \"\n",
        "                \"(name VARCHAR(255) NOT NULL, \"\n",
        "                \"area VARCHAR(255) NOT NULL, category VARCHAR(255) NOT NULL, \"\n",
        "                \"address VARCHAR(255) NOT NULL, tel VARCHAR(255) NOT NULL );\"\n",
        "            )\n",
        "        )\n",
        "\n",
        "        # commit transaction (SQLAlchemy v2.X.X is commit as you go)\n",
        "        db_conn.commit()\n",
        "        # insert data into our nagoya table\n",
        "        insert_stmt = sqlalchemy.text(\n",
        "                \"INSERT INTO nagoya (name, area, category, address, tel) VALUES (:name, :area, :category, :address, :tel)\",\n",
        "        )\n",
        "\n",
        "\n",
        "        import csv\n",
        "        with open(filename, 'r') as file:\n",
        "            reader = csv.reader(file)\n",
        "            for row in reader:\n",
        "                db_conn.execute(insert_stmt, parameters={\"name\":row[0], \"area\":row[1], \"category\":row[2], \"address\":row[3], \"tel\":row[4]})\n",
        "\n",
        "            # commit transactions\n",
        "            db_conn.commit()\n",
        "\n",
        "    # cleanup connector object\n",
        "    connector.close()\n",
        "\n",
        "    # try code\n",
        "    code = \"select count(*) from nagoya;\"\n",
        "    with pool.connect() as db_conn:\n",
        "        print(db_conn.execute(sqlalchemy.text(code)).fetchall())\n",
        "    \n",
        "    return\n",
        "\n",
        "connect()"
      ]
    },
    {
      "cell_type": "code",
      "execution_count": 8,
      "metadata": {
        "colab": {
          "base_uri": "https://localhost:8080/"
        },
        "id": "O4knNSipp0ql",
        "outputId": "990978c4-ecaf-438d-aa11-cde130cc13e0"
      },
      "outputs": [
        {
          "name": "stdout",
          "output_type": "stream",
          "text": [
            "Deleted database [nagoya].\n"
          ]
        }
      ],
      "source": [
        "def cleanup():\n",
        "    # If there is no existing database, delete none.\n",
        "    !gcloud sql databases delete nagoya --instance=cospa101 --quiet\n",
        "    \"\"\"\n",
        "    # delete Cloud SQL instance\n",
        "    instance_name = \"cospa101\" \n",
        "    !gcloud sql instances delete {instance_name}\n",
        "    \"\"\"\n",
        "    # Move the file to a backup directory\n",
        "    from os import system\n",
        "    system(f'mv \"{filename}\" \"/content/drive/My Drive/bk_cospa101\"')\n",
        "\n",
        "    return\n",
        "cleanup()"
      ]
    },
    {
      "cell_type": "code",
      "execution_count": 9,
      "metadata": {
        "id": "9WTQfEo4sbr2"
      },
      "outputs": [],
      "source": [
        "def sleep(hour):\n",
        "    import time\n",
        "    time.sleep(int(hour) * 360)\n",
        "sleep(23)"
      ]
    }
  ],
  "metadata": {
    "colab": {
      "provenance": []
    },
    "kernelspec": {
      "display_name": "Python 3",
      "name": "python3"
    },
    "language_info": {
      "name": "python"
    }
  },
  "nbformat": 4,
  "nbformat_minor": 0
}
